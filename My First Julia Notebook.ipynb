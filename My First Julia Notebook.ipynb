{
 "cells": [
  {
   "cell_type": "markdown",
   "id": "f637403e",
   "metadata": {},
   "source": [
    "# Welcome to my first julia notebook :)"
   ]
  },
  {
   "cell_type": "code",
   "execution_count": 2,
   "id": "1aa58c5c",
   "metadata": {},
   "outputs": [
    {
     "name": "stdout",
     "output_type": "stream",
     "text": [
      "Hello World"
     ]
    }
   ],
   "source": [
    "print(\"Hello World\")"
   ]
  },
  {
   "cell_type": "code",
   "execution_count": 3,
   "id": "e237d697",
   "metadata": {},
   "outputs": [
    {
     "data": {
      "text/plain": [
       "20"
      ]
     },
     "execution_count": 3,
     "metadata": {},
     "output_type": "execute_result"
    }
   ],
   "source": [
    "sum(abs2, Int64[2, 4])"
   ]
  },
  {
   "cell_type": "code",
   "execution_count": null,
   "id": "5f65c1fe",
   "metadata": {},
   "outputs": [],
   "source": []
  }
 ],
 "metadata": {
  "kernelspec": {
   "display_name": "Julia 1.7.2",
   "language": "julia",
   "name": "julia-1.7"
  },
  "language_info": {
   "file_extension": ".jl",
   "mimetype": "application/julia",
   "name": "julia",
   "version": "1.7.2"
  }
 },
 "nbformat": 4,
 "nbformat_minor": 5
}
